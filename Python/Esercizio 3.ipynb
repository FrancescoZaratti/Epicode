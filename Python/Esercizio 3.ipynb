{
 "cells": [
  {
   "cell_type": "code",
   "execution_count": 4,
   "id": "ec600546-4291-4652-b35e-7a449f5b2189",
   "metadata": {},
   "outputs": [
    {
     "name": "stdout",
     "output_type": "stream",
     "text": [
      "[[0, 1, 2, 3, 4], [5, 6, 7, 8, 9], [10, 11, 12, 13, 14]]\n",
      "[5, 6, 7, 8, 9]\n",
      "8\n"
     ]
    }
   ],
   "source": [
    "math = [ [0,1,2,3,4], [5,6,7,8,9], [10,11,12,13,14] ]\n",
    "\n",
    "print (math)\n",
    "print (math [1])\n",
    "print (math [1] [3])"
   ]
  },
  {
   "cell_type": "code",
   "execution_count": 13,
   "id": "18aa93a5-bd1a-48ba-a0f1-b234660dd021",
   "metadata": {},
   "outputs": [
    {
     "name": "stdout",
     "output_type": "stream",
     "text": [
      "-6.054419962463426\n",
      "-19.02052127582249\n",
      "0.22677520771987236\n"
     ]
    }
   ],
   "source": [
    "import math\n",
    "\n",
    "x = 4 \n",
    "y = 8 * math.sin (x)\n",
    "z = y * math.pi\n",
    "zz = math.sin (y)\n",
    "\n",
    "print (y)\n",
    "print (z)\n",
    "print (zz)"
   ]
  },
  {
   "cell_type": "code",
   "execution_count": 16,
   "id": "dc02efd2-b989-4b75-8f19-4ad1f70c73bf",
   "metadata": {},
   "outputs": [
    {
     "name": "stdout",
     "output_type": "stream",
     "text": [
      "Help on built-in function degrees in module math:\n",
      "\n",
      "degrees(x, /)\n",
      "    Convert angle x from radians to degrees.\n",
      "\n"
     ]
    }
   ],
   "source": [
    "import math\n",
    "\n",
    "math.degrees (math.pi)\n",
    "help (math.degrees)"
   ]
  },
  {
   "cell_type": "code",
   "execution_count": 42,
   "id": "dbd7fea5-c8d6-4165-9f74-d4fb2b99b229",
   "metadata": {},
   "outputs": [
    {
     "name": "stdout",
     "output_type": "stream",
     "text": [
      "<class 'list'>\n",
      "[2000, 5500, 7200, 4320, 1280, 1900, 2500, 3900, 6410, 8150, 7100, 5350]\n",
      "<class 'numpy.ndarray'>\n",
      "[2000 5500 7200 4320 1280 1900 2500 3900 6410 8150 7100 5350]\n",
      "\n",
      "Vendita mensile maggiore : 8150\n",
      "Vendita mensile minore : 1280\n",
      "\n",
      "Numero vendite mensili maggiori di 4999 oggetti : 6\n",
      "Vendite mensili maggiori di 4999 oggetti : [5500 7200 6410 8150 7100 5350]\n",
      "\n",
      "Numero vendite mensili minori di 3000 oggetti : 4\n",
      "Vendite mensili minori di 3000 oggetti : [2000 1280 1900 2500]\n",
      "Media vendite : 4634.166666666667\n"
     ]
    }
   ],
   "source": [
    "import numpy as np\n",
    "import pandas as pd\n",
    "\n",
    "lst = [2000, 5500, 7200, 4320, 1280, 1900, 2500, 3900, 6410, 8150, 7100, 5350]\n",
    "print (type (lst))\n",
    "print (lst)\n",
    "\n",
    "lst_arr = np.array (lst) ## Casting\n",
    "print (type (lst_arr))\n",
    "print (lst_arr)\n",
    "\n",
    "print ('\\nVendita mensile maggiore :', lst_arr.max())\n",
    "print ('Vendita mensile minore :', lst_arr.min())\n",
    "\n",
    "lst_filtr = lst_arr >= 4999\n",
    "print ('\\nNumero vendite mensili maggiori di 4999 oggetti :', len (lst_arr [lst_filtr]))\n",
    "print ('Vendite mensili maggiori di 4999 oggetti :', lst_arr [lst_filtr])\n",
    "\n",
    "lst_filtr2 = lst_arr <= 3000\n",
    "print ('\\nNumero vendite mensili minori di 3000 oggetti :', len (lst_arr [lst_filtr2]))\n",
    "print ('Vendite mensili minori di 3000 oggetti :', lst_arr [lst_filtr2])\n",
    "\n",
    "print ('Media vendite :', lst_arr.mean())"
   ]
  },
  {
   "cell_type": "code",
   "execution_count": 46,
   "id": "ba3d8f17-14a5-4122-be54-2aa46df4dfd9",
   "metadata": {},
   "outputs": [
    {
     "name": "stdout",
     "output_type": "stream",
     "text": [
      "<class 'dict'>\n",
      "{1997: 12000, 1998: 15000, 1999: 20000, 2000: 23000, 2001: 25000, 2002: 17000, 2003: 14000, 2004: 21000}\n",
      "<class 'pandas.core.series.Series'>\n",
      "1997    12000\n",
      "1998    15000\n",
      "1999    20000\n",
      "2000    23000\n",
      "2001    25000\n",
      "2002    17000\n",
      "2003    14000\n",
      "2004    21000\n",
      "dtype: int64\n",
      "12000 12000\n",
      "21000 21000\n"
     ]
    }
   ],
   "source": [
    "fatturati_dict = {1997: 12_000, 1998: 15_000, 1999: 20_000, 2000: 23_000, 2001: 25_000, 2002: 17_000, 2003: 14_000, 2004: 21_000}\n",
    "fatturati_series = pd.Series([12_000, 15_000, 20_000, 23_000, 25_000, 17_000, 14_000, 21_000], index=range(1997, 2005))\n",
    " ## fatturati_series = pd.Series (fatturati_dict)\n",
    "print (type (fatturati_dict))\n",
    "print (fatturati_dict)\n",
    "print (type (fatturati_series))\n",
    "print (fatturati_series)\n",
    "\n",
    "x = fatturati_dict[1997] \n",
    "y = fatturati_series[1997]\n",
    "z = fatturati_dict[2004]\n",
    "w = fatturati_series[2004]\n",
    "\n",
    "print (x, y)\n",
    "print (z, w)"
   ]
  },
  {
   "cell_type": "code",
   "execution_count": 56,
   "id": "fba483bb-a8cb-4fc5-a2a6-a82f434b2383",
   "metadata": {},
   "outputs": [
    {
     "name": "stdout",
     "output_type": "stream",
     "text": [
      "[ 100  200  300  400  500  600  700  800  900 1000]\n",
      "[ 200  400  600  800 1000 1200 1400 1600 1800 2000]\n"
     ]
    },
    {
     "ename": "IndexError",
     "evalue": "index 100 is out of bounds for axis 0 with size 10",
     "output_type": "error",
     "traceback": [
      "\u001b[1;31m---------------------------------------------------------------------------\u001b[0m",
      "\u001b[1;31mIndexError\u001b[0m                                Traceback (most recent call last)",
      "Cell \u001b[1;32mIn[56], line 10\u001b[0m\n\u001b[0;32m      8\u001b[0m \u001b[38;5;28;01mfor\u001b[39;00m salary \u001b[38;5;129;01min\u001b[39;00m salaries:\n\u001b[0;32m      9\u001b[0m     agg \u001b[38;5;241m=\u001b[39m salary \u001b[38;5;241m*\u001b[39m\u001b[38;5;241m2\u001b[39m\n\u001b[1;32m---> 10\u001b[0m     \u001b[38;5;28mprint\u001b[39m (salaries [salary])\n\u001b[0;32m     12\u001b[0m \u001b[38;5;28mprint\u001b[39m (salaries)\n",
      "\u001b[1;31mIndexError\u001b[0m: index 100 is out of bounds for axis 0 with size 10"
     ]
    }
   ],
   "source": [
    "import numpy as np \n",
    "salaries = np.array( [100, 200, 300, 400, 500,  600, 700, 800, 900, 1000] )\n",
    "print (salaries)\n",
    "\n",
    "salaries_x2 = (salaries *2)\n",
    "print (salaries_x2)\n",
    "\n",
    "for salary in salaries:\n",
    "    agg = salary *2\n",
    "    print (salaries [salary]) ##? Modo per aggiornare o replaace np.array\n",
    "\n",
    "print (salaries)"
   ]
  }
 ],
 "metadata": {
  "kernelspec": {
   "display_name": "Python 3 (ipykernel)",
   "language": "python",
   "name": "python3"
  },
  "language_info": {
   "codemirror_mode": {
    "name": "ipython",
    "version": 3
   },
   "file_extension": ".py",
   "mimetype": "text/x-python",
   "name": "python",
   "nbconvert_exporter": "python",
   "pygments_lexer": "ipython3",
   "version": "3.11.7"
  }
 },
 "nbformat": 4,
 "nbformat_minor": 5
}
