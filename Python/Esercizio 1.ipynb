{
 "cells": [
  {
   "cell_type": "code",
   "execution_count": 4,
   "id": "801171ae-36a4-4f75-8832-700e4b808487",
   "metadata": {},
   "outputs": [
    {
     "name": "stdout",
     "output_type": "stream",
     "text": [
      "25\n"
     ]
    }
   ],
   "source": [
    "students = 25\n",
    "print (students)"
   ]
  },
  {
   "cell_type": "code",
   "execution_count": 5,
   "id": "5681ba37-5ed7-4b63-8f24-e3f5f4c08f0e",
   "metadata": {},
   "outputs": [
    {
     "name": "stdout",
     "output_type": "stream",
     "text": [
      "28\n"
     ]
    }
   ],
   "source": [
    "students_1 = 3\n",
    "students_tot = students + students_1\n",
    "print (students_tot)"
   ]
  },
  {
   "cell_type": "code",
   "execution_count": 6,
   "id": "dd5ed213-987b-4ebd-bee2-cf9ee97a4ab9",
   "metadata": {},
   "outputs": [
    {
     "data": {
      "text/plain": [
       "int"
      ]
     },
     "execution_count": 6,
     "metadata": {},
     "output_type": "execute_result"
    }
   ],
   "source": [
    "type (students_tot)"
   ]
  },
  {
   "cell_type": "code",
   "execution_count": 9,
   "id": "997dae3d-53e9-4b92-afcc-294b9603fed0",
   "metadata": {},
   "outputs": [
    {
     "name": "stdout",
     "output_type": "stream",
     "text": [
      "Ci sono 28 studenti in totale\n"
     ]
    }
   ],
   "source": [
    "print ('Ci sono', students_tot, 'studenti in totale')"
   ]
  },
  {
   "cell_type": "code",
   "execution_count": 5,
   "id": "fb491539-588f-42b6-b7f1-5199493e0457",
   "metadata": {},
   "outputs": [
    {
     "name": "stdout",
     "output_type": "stream",
     "text": [
      "Epicode\n"
     ]
    }
   ],
   "source": [
    "name_course = 'Epicode'\n",
    "print (name_course)"
   ]
  },
  {
   "cell_type": "code",
   "execution_count": 6,
   "id": "f5793a98-053c-401b-8918-89321d05c213",
   "metadata": {},
   "outputs": [
    {
     "data": {
      "text/plain": [
       "str"
      ]
     },
     "execution_count": 6,
     "metadata": {},
     "output_type": "execute_result"
    }
   ],
   "source": [
    "type (name_course)"
   ]
  },
  {
   "cell_type": "code",
   "execution_count": 7,
   "id": "43b02e04-3437-48ad-b685-a1cdeac2e1f3",
   "metadata": {},
   "outputs": [
    {
     "name": "stdout",
     "output_type": "stream",
     "text": [
      "Stai partecipando al corso di Epicode\n"
     ]
    }
   ],
   "source": [
    "print ('Stai partecipando al corso di %s' %name_course)"
   ]
  },
  {
   "cell_type": "code",
   "execution_count": 84,
   "id": "546ead9a-bd44-45a4-acce-7755a9189e2d",
   "metadata": {},
   "outputs": [
    {
     "name": "stdout",
     "output_type": "stream",
     "text": [
      "60\n"
     ]
    }
   ],
   "source": [
    "x = 10\n",
    "tot = (x * 2) *3\n",
    "print (tot)"
   ]
  },
  {
   "cell_type": "code",
   "execution_count": 23,
   "id": "bc95c202-d0f5-4586-98e3-91972087e7c1",
   "metadata": {},
   "outputs": [
    {
     "name": "stdout",
     "output_type": "stream",
     "text": [
      "22\n"
     ]
    }
   ],
   "source": [
    "a = 20\n",
    "a += 2\n",
    "print (a)"
   ]
  },
  {
   "cell_type": "code",
   "execution_count": 64,
   "id": "747c2a58-e031-4102-8571-687902990500",
   "metadata": {},
   "outputs": [
    {
     "name": "stdout",
     "output_type": "stream",
     "text": [
      "36\n"
     ]
    }
   ],
   "source": [
    "y = 10\n",
    "y += 2\n",
    "b = y * 3\n",
    "print (b)"
   ]
  },
  {
   "cell_type": "code",
   "execution_count": 86,
   "id": "dc00be76-34fc-428d-8fe2-7a439a1a5450",
   "metadata": {},
   "outputs": [
    {
     "name": "stdout",
     "output_type": "stream",
     "text": [
      "La parola \"Windows\" è lunga 7 caratteri\n",
      "La parola \"Windows\" è compresa tra 5 e 8 caratteri\n"
     ]
    }
   ],
   "source": [
    "str_1 = 'Windows'\n",
    "str_2 = 'Excel'\n",
    "str_3 = 'Powerpoint'\n",
    "str_4 = 'Word'\n",
    "\n",
    "lung = len(str_1)\n",
    "print ( 'La parola \"%s\" è lunga %d caratteri' %(str_1, lung))\n",
    "\n",
    "if 5 <= lung <= 8 :\n",
    "    print ( 'La parola \"%s\" è compresa tra 5 e 8 caratteri' %str_1)\n",
    "else:\n",
    "    print ( 'La parola \"%s\" non è compresa tra 5 e 8 caratteri' %str_1)"
   ]
  },
  {
   "cell_type": "code",
   "execution_count": null,
   "id": "6fc925bc-3be7-4cf5-9f49-68eaddfdef9c",
   "metadata": {},
   "outputs": [],
   "source": [
    "#?? Calcolare e stampare a video quanti secondi ci sono in un anno non bisestile"
   ]
  },
  {
   "cell_type": "code",
   "execution_count": 83,
   "id": "81c0309c-f8a0-4a5e-b6a9-dcc05b7e65a8",
   "metadata": {},
   "outputs": [
    {
     "name": "stdout",
     "output_type": "stream",
     "text": [
      "I am studying Python\n",
      "I AM STUDYING PYTHON\n",
      "i am studying python\n",
      "I am studying a lot\n",
      "  I love Epicode  \n",
      "I love Epicode\n"
     ]
    }
   ],
   "source": [
    "my_string = 'I am studying Python'\n",
    "print (my_string)\n",
    "\n",
    "string_upper = my_string.upper ()\n",
    "print (string_upper)\n",
    "\n",
    "string_lower = my_string.lower ()\n",
    "print (string_lower)\n",
    "\n",
    "string_repl= my_string.replace ('Python', 'a lot')\n",
    "print (string_repl)\n",
    "\n",
    "string = '  I love Epicode  '\n",
    "print (string)\n",
    "\n",
    "string_ok = string.strip ()\n",
    "print (string_ok)"
   ]
  }
 ],
 "metadata": {
  "kernelspec": {
   "display_name": "Python 3 (ipykernel)",
   "language": "python",
   "name": "python3"
  },
  "language_info": {
   "codemirror_mode": {
    "name": "ipython",
    "version": 3
   },
   "file_extension": ".py",
   "mimetype": "text/x-python",
   "name": "python",
   "nbconvert_exporter": "python",
   "pygments_lexer": "ipython3",
   "version": "3.11.7"
  }
 },
 "nbformat": 4,
 "nbformat_minor": 5
}
