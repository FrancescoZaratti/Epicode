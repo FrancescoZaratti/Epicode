{
 "cells": [
  {
   "cell_type": "code",
   "execution_count": 54,
   "id": "6848b909-17e5-4c85-83cb-787b2dcf30f8",
   "metadata": {},
   "outputs": [
    {
     "name": "stdout",
     "output_type": "stream",
     "text": [
      "Epicode\n",
      "Lettera nell'indice 0\n",
      "E\n",
      "Lettera nell'indice 1\n",
      "p\n",
      "Lettera nell'indice 2\n",
      "i\n",
      "Lettera nell'indice 3\n",
      "c\n",
      "Lettera nell'indice 4\n",
      "o\n",
      "Lettera nell'indice 5\n",
      "d\n",
      "Lettera nell'indice 6\n",
      "e\n"
     ]
    }
   ],
   "source": [
    "name_school = 'Epicode'\n",
    "print (name_school)\n",
    "\n",
    "i=0\n",
    "while i < len (name_school):\n",
    "    print (\"Lettera nell'indice %s\" %i)\n",
    "    print (name_school [i])\n",
    "    i += 1"
   ]
  },
  {
   "cell_type": "code",
   "execution_count": 121,
   "id": "3077085c-34dd-487f-bf47-82960b5e44af",
   "metadata": {},
   "outputs": [
    {
     "name": "stdin",
     "output_type": "stream",
     "text": [
      "Fino a che numero vuoi arrivare?  4\n"
     ]
    },
    {
     "name": "stdout",
     "output_type": "stream",
     "text": [
      "0\n",
      "1\n",
      "2\n",
      "3\n",
      "4\n"
     ]
    }
   ],
   "source": [
    "i = 0\n",
    "ended = int( input( 'Fino a che numero vuoi arrivare? '))\n",
    "while i <= ended:\n",
    "    print (i)\n",
    "    i += 1"
   ]
  },
  {
   "cell_type": "code",
   "execution_count": 3,
   "id": "7491579d-4f0d-4b63-a192-796f8bf6605b",
   "metadata": {},
   "outputs": [
    {
     "name": "stdout",
     "output_type": "stream",
     "text": [
      "1\n",
      "2\n",
      "4\n",
      "8\n",
      "16\n",
      "32\n",
      "64\n",
      "128\n",
      "256\n",
      "512\n"
     ]
    }
   ],
   "source": [
    "i = 0\n",
    "while i < 10:\n",
    "    esp = 2 **i\n",
    "    print (esp)\n",
    "    i += 1"
   ]
  },
  {
   "cell_type": "code",
   "execution_count": 4,
   "id": "c4f19a99-cd50-48c1-9d98-2aa66efa81eb",
   "metadata": {},
   "outputs": [
    {
     "name": "stdin",
     "output_type": "stream",
     "text": [
      "Di quale numero vuoi calcolare l'esponenziale?   5\n",
      "Quante potenze del numero 5 vuoi calcolare?   5\n"
     ]
    },
    {
     "name": "stdout",
     "output_type": "stream",
     "text": [
      "1\n",
      "5\n",
      "25\n",
      "125\n",
      "625\n"
     ]
    }
   ],
   "source": [
    "i = 0\n",
    "num = int( input (\"Di quale numero vuoi calcolare l'esponenziale?  \") )\n",
    "occorrenze = int( input ('Quante potenze del numero %d vuoi calcolare?  ' %num) )\n",
    "\n",
    "while i < occorrenze:\n",
    "    esp = num **i\n",
    "    print (esp)\n",
    "    i += 1"
   ]
  },
  {
   "cell_type": "code",
   "execution_count": 13,
   "id": "656b017b-87cc-455b-8be7-d04f9abc442a",
   "metadata": {},
   "outputs": [
    {
     "name": "stdout",
     "output_type": "stream",
     "text": [
      "2 elevato a 0 = 1\n",
      "2 elevato a 1 = 2\n",
      "2 elevato a 2 = 4\n",
      "2 elevato a 3 = 8\n",
      "2 elevato a 4 = 16\n",
      "2 elevato a 5 = 32\n",
      "2 elevato a 6 = 64\n",
      "2 elevato a 7 = 128\n",
      "2 elevato a 8 = 256\n",
      "2 elevato a 9 = 512\n",
      "2 elevato a 10 = 1024\n",
      "2 elevato a 11 = 2048\n",
      "2 elevato a 12 = 4096\n",
      "2 elevato a 13 = 8192\n",
      "2 elevato a 14 = 16384\n",
      "Il risultato \"32768\" è superiore allo stop impostato\n"
     ]
    }
   ],
   "source": [
    "i = 0\n",
    "esp = 0\n",
    "stop = 25000\n",
    "\n",
    "while esp < stop:\n",
    "    esp = 2 **i\n",
    "    if esp < stop:\n",
    "        print (\"2 elevato a %d = %d\" %(i,esp))\n",
    "        i += 1\n",
    "    else:\n",
    "        print ('Il risultato \"%d\" è superiore allo stop impostato' %esp)"
   ]
  },
  {
   "cell_type": "code",
   "execution_count": 6,
   "id": "a5f4a958-66fb-446e-a436-78878df10462",
   "metadata": {},
   "outputs": [
    {
     "name": "stdout",
     "output_type": "stream",
     "text": [
      "8\n",
      "6\n",
      "['Cybersecurity', 'Data Analyst', 'Backend', 'Frontend', 'Data Analyst', 'Backend', 'Cybersecurity', 'Frontend']\n"
     ]
    }
   ],
   "source": [
    "students = ['Alex', 'Bob', 'Cindy', 'Dan', 'Emma', 'Faith', 'Grace', 'Henry']\n",
    "courses = ['Cybersecurity', 'Data Analyst', 'Backend', 'Frontend', 'Data Analyst', 'Backend']\n",
    "\n",
    "print (len (students))\n",
    "print (len (courses))\n",
    "\n",
    "courses.append ('Cybersecurity')\n",
    "courses.append ('Frontend')\n",
    "\n",
    "if len (students) == len (courses):\n",
    "    print (courses)\n",
    "else:\n",
    "    print ('Mancano corsi o studenti')\n"
   ]
  },
  {
   "cell_type": "code",
   "execution_count": 58,
   "id": "91552603-fab7-4699-8825-f3777143a0ec",
   "metadata": {},
   "outputs": [
    {
     "name": "stdin",
     "output_type": "stream",
     "text": [
      "Digita una stringa:  canencae\n"
     ]
    },
    {
     "name": "stdout",
     "output_type": "stream",
     "text": [
      "La stringa inserita è composta da 8 caratteri\n",
      "Abbrevio la tua stringa: can...cae\n"
     ]
    }
   ],
   "source": [
    "str_input = input ('Digita una stringa: ')\n",
    "print ('La stringa inserita è composta da %d caratteri' %len(str_input))\n",
    "\n",
    "if 6 < len(str_input) <= 10:\n",
    "    print ('Abbrevio la tua stringa: {}...{}'.format(str_input [:+3], str_input [-3:]))\n",
    "elif len(str_input) >10:\n",
    "    print ('Abbrevio la tua stringa: {}...{}...{}'.format(str_input [:+3], str_input [+5:-5], str_input [-3:]))\n",
    "elif 3 < len(str_input) <= 6:\n",
    "    print ('Abbrevio la tua stringa: {}...{}'.format(str_input [:+2], str_input [-1:]))\n",
    "else:\n",
    "    print (\"La tua stringa ha lunghezza uguale o inferiore a 3. L'abbreviazione non è disponibile\")\n",
    "    "
   ]
  },
  {
   "cell_type": "code",
   "execution_count": null,
   "id": "1f83ba8a-56e1-436b-a7a3-bd883a055ac4",
   "metadata": {},
   "outputs": [],
   "source": [
    "#?? Memorizza e stampa tutti i fattori di un numero dato in input."
   ]
  },
  {
   "cell_type": "code",
   "execution_count": 198,
   "id": "7b0013c0-a2c0-4204-97b7-daadb9a37dba",
   "metadata": {},
   "outputs": [
    {
     "name": "stdout",
     "output_type": "stream",
     "text": [
      "Lettera numero 1\n",
      "E\n",
      "Lettera numero 2\n",
      "p\n",
      "Lettera numero 3\n",
      "i\n",
      "Lettera numero 4\n",
      "c\n",
      "Lettera numero 5\n",
      "o\n",
      "Lettera numero 6\n",
      "d\n",
      "Lettera numero 7\n",
      "e\n"
     ]
    }
   ],
   "source": [
    "nome_scuola = \"Epicode\"\n",
    "i = 1\n",
    "\n",
    "for letter in nome_scuola:\n",
    "    print ('Lettera numero', i) #?? Metodo per convertire letter in indice di posizione\n",
    "    print (letter)\n",
    "    i += 1"
   ]
  },
  {
   "cell_type": "code",
   "execution_count": 74,
   "id": "79e87a03-84f9-4391-b6a4-56165d6fe31f",
   "metadata": {},
   "outputs": [
    {
     "name": "stdout",
     "output_type": "stream",
     "text": [
      "[1]\n",
      "[1, 2]\n",
      "[1, 2, 4]\n",
      "[1, 2, 4, 8]\n",
      "[1, 2, 4, 8, 16]\n",
      "[1, 2, 4, 8, 16, 32]\n",
      "[1, 2, 4, 8, 16, 32, 64]\n",
      "[1, 2, 4, 8, 16, 32, 64, 128]\n",
      "[1, 2, 4, 8, 16, 32, 64, 128, 256]\n",
      "[1, 2, 4, 8, 16, 32, 64, 128, 256, 512]\n"
     ]
    }
   ],
   "source": [
    "empty_list = list()\n",
    "x = 0\n",
    "\n",
    "while x < 10: \n",
    "    y=2**x\n",
    "    empty_list.append(y)\n",
    "    print (empty_list)\n",
    "    x += 1\n",
    "    "
   ]
  },
  {
   "cell_type": "code",
   "execution_count": 33,
   "id": "f02e4849-4bfa-4256-be35-346106aab84f",
   "metadata": {},
   "outputs": [
    {
     "name": "stdin",
     "output_type": "stream",
     "text": [
      "Inserisci il numero del quale vuoi calcolare la potenza :  2\n",
      "Inserisci l' esponente :  5\n"
     ]
    },
    {
     "name": "stdout",
     "output_type": "stream",
     "text": [
      "Il risultato di 2 elevato alla 5 : [1, 2, 4, 8, 16, 32]\n"
     ]
    }
   ],
   "source": [
    "list_k = list()\n",
    "\n",
    "i = 0\n",
    "k = int (input ('Inserisci il numero del quale vuoi calcolare la potenza : '))\n",
    "n = int (input (\"Inserisci l' esponente : \"))\n",
    "\n",
    "while i <= n:\n",
    "    pot = k**i\n",
    "    list_k.append (pot)\n",
    "    i += 1\n",
    "    \n",
    "print ('Il risultato di',k ,'elevato alla',n,':',list_k)"
   ]
  },
  {
   "cell_type": "code",
   "execution_count": 199,
   "id": "683904f5-83ec-4805-96c0-0b8deffacbd1",
   "metadata": {},
   "outputs": [
    {
     "name": "stdin",
     "output_type": "stream",
     "text": [
      "Inserisci il numero del quale vuoi calcolare la potenza :  2\n",
      "Inserisci l' esponente :  2\n"
     ]
    },
    {
     "name": "stdout",
     "output_type": "stream",
     "text": [
      "Il risultato di 2 elevato alla 2 : []\n"
     ]
    }
   ],
   "source": [
    "list_k2 = list ()\n",
    "\n",
    "i2 = 0\n",
    "k2 = int (input ('Inserisci il numero del quale vuoi calcolare la potenza : '))\n",
    "n2 = int (input (\"Inserisci l' esponente : \"))\n",
    "\n",
    "for n1 in list_k2: #?? Non entra nel for perchè la lista è vuota\n",
    "    pot = k2**n1\n",
    "    list_k2.append (pot)\n",
    "\n",
    "print ('Il risultato di',k2 ,'elevato alla',n2 ,':',list_k2)"
   ]
  },
  {
   "cell_type": "code",
   "execution_count": 56,
   "id": "8ccd4d30-7ce9-4c8f-b405-ed803f8e95eb",
   "metadata": {},
   "outputs": [
    {
     "name": "stdout",
     "output_type": "stream",
     "text": [
      "La media dei ricavi annui risulta : 70 €\n"
     ]
    }
   ],
   "source": [
    "earnings = [100, 90, 70, 40, 50, 80, 90, 120, 80, 20, 50, 50]\n",
    "tot = 0\n",
    "\n",
    "for earning in earnings:\n",
    "        tot += earning\n",
    "\n",
    "med = tot / len(earnings)\n",
    "print ('La media dei ricavi annui risulta :', int (med), '€')"
   ]
  },
  {
   "cell_type": "code",
   "execution_count": 200,
   "id": "1a8d65d1-3b2d-4920-93aa-dc7c58a55109",
   "metadata": {},
   "outputs": [
    {
     "name": "stdin",
     "output_type": "stream",
     "text": [
      "Inserire ricavo per il mese 1 : 1\n",
      "Inserire ricavo per il mese 2 : 1\n",
      "Inserire ricavo per il mese 3 : 1\n",
      "Inserire ricavo per il mese 4 : 1\n",
      "Inserire ricavo per il mese 5 : 1\n",
      "Inserire ricavo per il mese 6 : 1\n",
      "Inserire ricavo per il mese 7 : 1\n",
      "Inserire ricavo per il mese 8 : 1\n",
      "Inserire ricavo per il mese 9 : 1\n",
      "Inserire ricavo per il mese 10 : 1\n",
      "Inserire ricavo per il mese 11 : 1\n",
      "Inserire ricavo per il mese 12 : 1\n"
     ]
    },
    {
     "name": "stdout",
     "output_type": "stream",
     "text": [
      "\n",
      "La media dei ricavi annui risulta : 1 €\n"
     ]
    }
   ],
   "source": [
    "i = 0\n",
    "earnings_input = list () \n",
    "tot = 0 #?? Funzioni con tipo Data per stampare gennaio, febbraio... \n",
    "\n",
    "while i < 12:\n",
    "    x = int (input ('Inserire ricavo per il mese %d :' %(i+1)))\n",
    "    earnings_input.append (x) \n",
    "    i += 1\n",
    "for earning in earnings_input:\n",
    "    tot += earning\n",
    "\n",
    "med = tot / len(earnings_input) \n",
    "print ('\\nLa media dei ricavi annui risulta :', int (med), '€')"
   ]
  },
  {
   "cell_type": "code",
   "execution_count": 201,
   "id": "d327dcbc-0253-4018-94e9-682a0431410e",
   "metadata": {},
   "outputs": [
    {
     "name": "stdout",
     "output_type": "stream",
     "text": [
      "2\n"
     ]
    },
    {
     "name": "stdin",
     "output_type": "stream",
     "text": [
      "Inserire la lettera da cercare nella lista : e\n"
     ]
    },
    {
     "name": "stdout",
     "output_type": "stream",
     "text": [
      "Occorrenze della lettera \" e \" nella parola Albergo : 1\n",
      "Occorrenze della lettera \" e \" nella parola Sedia : 1\n",
      "Occorrenze della lettera \" e \" nella parola Borgo : 0\n",
      "Occorrenze della lettera \" e \" nella parola Petalo : 1\n",
      "Occorrenze della lettera \" e \" nella parola Eremo : 2\n",
      "Occorrenze della lettera \" e \" nella parola Belvedere : 4\n",
      "Occorrenze della lettera \" e \" nella parola Semestre : 3\n",
      "Occorrenze della lettera \" e \" nella parola Esteta : 2\n",
      "Occorrenze della lettera \" e \" nella parola Sosta : 0\n",
      "Occorrenze della lettera \" e \" nella parola Orpello : 1\n",
      "Occorrenze della lettera \" e \" nella parola Abete : 2\n",
      "Occorrenze della lettera \" e \" nella parola Orologio : 0\n",
      "Occorrenze della lettera \" e \" nella parola Cesta : 1\n",
      "Occorrenze della lettera \" e \" nella parola Ermellino : 2\n"
     ]
    }
   ],
   "source": [
    "words = [\"Albergo\", \"Sedia\", \"Borgo\", \"Petalo\", \"Eremo\", \"Belvedere\", \"Semestre\", \"Esteta\", \"Sosta\", \"Orpello\", \"Abete\", \"Orologio\", \"Cesta\", \"Ermellino\"]\n",
    "\n",
    "print (words[2].count ('o'))\n",
    "letter = input ('Inserire la lettera da cercare nella lista :')\n",
    "\n",
    "for word in words:\n",
    "    low = word.lower () #?? Metodo più clean di eludere il case sensitive\n",
    "    occurrence = low.count (letter)\n",
    "    print ('Occorrenze della lettera \"',letter ,'\" nella parola', word,':', occurrence)"
   ]
  },
  {
   "cell_type": "code",
   "execution_count": 202,
   "id": "fd317675-8a88-40f1-a6e8-ff4d9701ef0b",
   "metadata": {},
   "outputs": [
    {
     "name": "stdout",
     "output_type": "stream",
     "text": [
      "{'Ada': 'Punto', 'Ben': 'Multipla', 'Charlie': 'Golf', 'Debbie': '107'}\n",
      "107\n",
      "Questi sono i buyer attuali : dict_keys(['Ada', 'Ben', 'Charlie', 'Debbie'])\n"
     ]
    },
    {
     "name": "stdin",
     "output_type": "stream",
     "text": [
      "Inserisci il nome della persona della quale vuoi sapere l'auto acquistata : Ada\n"
     ]
    },
    {
     "name": "stdout",
     "output_type": "stream",
     "text": [
      "Ada è propietario/a di questa auto : Punto\n"
     ]
    }
   ],
   "source": [
    "buyer_auto = {'Ada':'Punto', 'Ben':'Multipla', 'Charlie':'Golf', 'Debbie':'107'}\n",
    "\n",
    "print (buyer_auto)\n",
    "print (buyer_auto ['Debbie'])\n",
    "\n",
    "print ('Questi sono i buyer attuali :', buyer_auto.keys()) #?? Metodo per far vedere le keys del dict in maniera più clean in output\n",
    "buyer = input (\"Inserisci il nome della persona della quale vuoi sapere l'auto acquistata :\") \n",
    "print (buyer, \"è propietario/a di questa auto :\", buyer_auto [buyer])"
   ]
  },
  {
   "cell_type": "code",
   "execution_count": 145,
   "id": "fcbee380-d49b-40d2-afe5-53d951f97e6d",
   "metadata": {},
   "outputs": [
    {
     "name": "stdout",
     "output_type": "stream",
     "text": [
      "Punto\n",
      "Golf\n",
      "107\n"
     ]
    }
   ],
   "source": [
    "buyer_auto = {'Ada':'Punto', 'Ben':'Multipla', 'Charlie':'Golf', 'Debbie':'107'}\n",
    "\n",
    "for buyer in buyer_auto:\n",
    "    if buyer_auto[buyer] != 'Multipla':\n",
    "        print (buyer_auto[buyer])"
   ]
  },
  {
   "cell_type": "code",
   "execution_count": 146,
   "id": "7afda483-a826-4cbc-998d-240434424eeb",
   "metadata": {},
   "outputs": [
    {
     "name": "stdout",
     "output_type": "stream",
     "text": [
      "{'Ada': 'Punto', 'Ben': 'Multipla', 'Charlie': 'Golf', 'Debbie': '107'}\n",
      "{'Ben': 'Polo', 'Fred': 'Octavia', 'Grace': 'Yaris', 'Hugh': 'Clio'}\n",
      "{'Ada': 'Punto', 'Ben': 'Polo', 'Charlie': 'Golf', 'Debbie': '107', 'Fred': 'Octavia', 'Grace': 'Yaris', 'Hugh': 'Clio'}\n"
     ]
    }
   ],
   "source": [
    "buyer_auto = {'Ada':'Punto', 'Ben':'Multipla', 'Charlie':'Golf', 'Debbie':'107'}\n",
    "new_buyer_auto = {\"Ben\":\"Polo\", \"Fred\":\"Octavia\", \"Grace\":\"Yaris\", \"Hugh\":\"Clio\"}\n",
    "\n",
    "print (buyer_auto)\n",
    "print (new_buyer_auto)\n",
    "\n",
    "buyer_auto.update (new_buyer_auto)\n",
    "print (buyer_auto)"
   ]
  },
  {
   "cell_type": "code",
   "execution_count": 203,
   "id": "2c7f34a4-4ce1-49ac-a358-e431eec7772d",
   "metadata": {},
   "outputs": [
    {
     "name": "stdout",
     "output_type": "stream",
     "text": [
      "MIN&MAX.\n",
      "Programma che, data una lista di numeri, restituisce valore minimo e valore massimo\n",
      "\n"
     ]
    },
    {
     "name": "stdin",
     "output_type": "stream",
     "text": [
      "Digita la lunghezza della lista da inserire : 1\n",
      "Inserire un numero nella lista : 1\n"
     ]
    },
    {
     "name": "stdout",
     "output_type": "stream",
     "text": [
      "\n",
      "Il valore minimo nella lista è : 1\n",
      "Il valore massimo nella lista è : 1\n"
     ]
    }
   ],
   "source": [
    "list_input = list()\n",
    "x = 0\n",
    "\n",
    "print ('MIN&MAX.\\nProgramma che, data una lista di numeri, restituisce valore minimo e valore massimo\\n')\n",
    "finish = int (input ('Digita la lunghezza della lista da inserire :') ) #?? Funzione per terminare la lista con un comando (null o altro)\n",
    "\n",
    "while x < finish:\n",
    "    insert = int (input (\"Inserire un numero nella lista :\") )\n",
    "    list_input.append (insert)\n",
    "    x += 1\n",
    "\n",
    "print ('\\nIl valore minimo nella lista è :', min(list_input))\n",
    "print ('Il valore massimo nella lista è :', max(list_input))"
   ]
  },
  {
   "cell_type": "code",
   "execution_count": 205,
   "id": "b9b905ed-a138-4f75-8c16-3f650b478c36",
   "metadata": {},
   "outputs": [
    {
     "name": "stdout",
     "output_type": "stream",
     "text": [
      "TOP 3 VALUE.\n",
      "Programma che, data una lista di numeri, restituisce i tre top valori\n",
      "\n"
     ]
    },
    {
     "name": "stdin",
     "output_type": "stream",
     "text": [
      "Digita la lunghezza della lista da inserire : 1\n",
      "Inserire un numero nella lista : 1\n"
     ]
    },
    {
     "name": "stdout",
     "output_type": "stream",
     "text": [
      "La lista inserita è uguale o inferiore e 3 elementi, quindi restituisco solo il top valore : [1]\n"
     ]
    }
   ],
   "source": [
    "list_input = list()\n",
    "x = 0\n",
    "\n",
    "print ('TOP 3 VALUE.\\nProgramma che, data una lista di numeri, restituisce i tre top valori\\n')\n",
    "finish = int (input ('Digita la lunghezza della lista da inserire :') ) #?? Funzione per terminare la lista con un comando (null o altro)\n",
    "\n",
    "while x < finish:\n",
    "    insert = int (input (\"Inserire un numero nella lista :\") )\n",
    "    list_input.append (insert)\n",
    "    x += 1\n",
    "\n",
    "list_input.sort()\n",
    "if len (list_input) <= 3:\n",
    "    print ('La lista inserita è uguale o inferiore e 3 elementi, quindi restituisco solo il top valore :', list_input [-1:])\n",
    "else:\n",
    "    print ('La lista inserita è superiore a 4 elementi, quindi restituisco i 3 top valori :', list_input [-3:])\n",
    "  #?? Uno o più dei numeri selezionati sono uguali"
   ]
  },
  {
   "cell_type": "code",
   "execution_count": 206,
   "id": "ad3ae8bb-10a7-49ef-9759-e99d2e8a4475",
   "metadata": {},
   "outputs": [
    {
     "name": "stdout",
     "output_type": "stream",
     "text": [
      "MEDIA ON TOP.\n",
      "Programma che, data una lista di numeri e un valore K, restituisce la media di tutti i numeri maggiori o uguali a K\n",
      "\n"
     ]
    },
    {
     "name": "stdin",
     "output_type": "stream",
     "text": [
      "Digita il valore K : 1\n",
      "Digita la lunghezza della lista da inserire : 1\n",
      "Inserire un numero nella lista : 1\n"
     ]
    },
    {
     "name": "stdout",
     "output_type": "stream",
     "text": [
      "Media di tutti i numeri maggiori o uguali a K : 1.0\n"
     ]
    }
   ],
   "source": [
    "list_input = list()\n",
    "x = 0\n",
    "tot = list()\n",
    "\n",
    "print ('MEDIA ON TOP.\\nProgramma che, data una lista di numeri e un valore K, restituisce la media di tutti i numeri maggiori o uguali a K\\n')\n",
    "k = int (input ('Digita il valore K :') )\n",
    "finish = int (input ('Digita la lunghezza della lista da inserire :') ) #?? Funzione per terminare la lista con un comando (null o altro)\n",
    "\n",
    "while x < finish:\n",
    "    insert = int (input (\"Inserire un numero nella lista :\") )\n",
    "    list_input.append (insert)\n",
    "    x += 1\n",
    "\n",
    "for i in list_input:\n",
    "    if i >= k:\n",
    "        tot.append (i)\n",
    "        \n",
    "med = sum(tot)/len(tot)\n",
    "if tot != 0:\n",
    "    print ('Media di tutti i numeri maggiori o uguali a K :', med)\n",
    "else:\n",
    "    print ('Tutti i numeri inseriti sono minori del valore K prestailito\"', k,'\"')\n",
    "    "
   ]
  },
  {
   "cell_type": "code",
   "execution_count": null,
   "id": "9bcdb9b7-47e6-4c44-b989-e9b9e1877484",
   "metadata": {},
   "outputs": [],
   "source": [
    "#?? Scrivere un programma che, data una lista di numeri, come output stamperà lo stesso numero di asterischi su righe diverse"
   ]
  },
  {
   "cell_type": "code",
   "execution_count": 229,
   "id": "d7ab121b-00d8-4ddb-aa68-fc21a7dc670e",
   "metadata": {},
   "outputs": [
    {
     "name": "stdout",
     "output_type": "stream",
     "text": [
      "SEARCH IN CF.\n",
      "Programma che, a partire da un DB di cf, cerca al loro interno valori immessi da te\n",
      " NB: I VALORI DEVONO ESSERE PRESENTI NEI CF IN MANIERA SEQUENZIALE\n",
      "\n"
     ]
    },
    {
     "name": "stdin",
     "output_type": "stream",
     "text": [
      "Digita i valori da cercare all'interno dei CF :  4\n"
     ]
    },
    {
     "name": "stdout",
     "output_type": "stream",
     "text": [
      "Sono stati trovati n. 2 CF contenenti il valore di ricerca \" 4 \"\n",
      "\n",
      "CF trovato : MNOPQR89S03A456D\n",
      "Indicazione del cognome : MNO \n",
      "Indicazione del nome : PQR \n",
      "\n",
      "CF trovato : STUVWX95Z04A654E\n",
      "Indicazione del cognome : STU \n",
      "Indicazione del nome : VWX \n",
      "\n"
     ]
    }
   ],
   "source": [
    "cf_list = [\"ABCDEF95G01A123B\", \"GHIJKL91M02A321C\", \"MNOPQR89S03A456D\", \"STUVWX95Z04A654E\", \"XYZABC01D05A789F\", \"DEFGHI95J06A987G\"]\n",
    "cf_new = list ()\n",
    "\n",
    "print ('SEARCH IN CF.\\nProgramma che, a partire da un DB di cf, cerca al loro interno valori immessi da te\\n NB: I VALORI DEVONO ESSERE PRESENTI NEI CF IN MANIERA SEQUENZIALE\\n')\n",
    "x = input (\"Digita i valori da cercare all'interno dei CF : \")\n",
    "\n",
    "for cf in cf_list:\n",
    "    if x in cf:\n",
    "        cf_new.append (cf)\n",
    "\n",
    "print ('Sono stati trovati n.',len (cf_new), 'CF contenenti il valore di ricerca \"', x,'\"\\n')\n",
    "\n",
    "for cf in cf_new:\n",
    "    nome = cf [:3]\n",
    "    cog = cf [3:6]\n",
    "    print ('CF trovato :',cf)\n",
    "    print ('Indicazione del cognome :',nome ,'\\nIndicazione del nome :', cog,'\\n')"
   ]
  },
  {
   "cell_type": "code",
   "execution_count": 246,
   "id": "dac83d2f-d56d-4111-8e1d-36373af95a0f",
   "metadata": {},
   "outputs": [
    {
     "name": "stdout",
     "output_type": "stream",
     "text": [
      "Di seguito, gli studenti che frequentano una prima edizione :\n",
      "Alex al corso di Cybersecurity\n",
      "Faith al corso di Backend\n"
     ]
    }
   ],
   "source": [
    "students = [\"Alex\", \"Bob\", \"Cindy\", \"Dan\", \"Emma\", \"Faith\", \"Grace\", \"Henry\"] \n",
    "courses = [\"Cybersecurity\", \"Data Analyst\", \"Backend\", \"Frontend\", \"Data Analyst\", \"Backend\", \"Frontend\", \"Cybersecurity\"] \n",
    "editions = [1, 2, 3, 2, 2, 1, 3, 3]\n",
    "\n",
    "i = 0\n",
    "print ('Di seguito, gli studenti che frequentano una prima edizione :') #?? Snellire codice levando iteratore\n",
    "for edition in editions:\n",
    "    if edition == 1:\n",
    "        print (students [i], 'al corso di', courses [i])\n",
    "        i += 1\n",
    "    else:\n",
    "        i += 1"
   ]
  },
  {
   "cell_type": "code",
   "execution_count": 250,
   "id": "19143610-387b-407f-85d4-779e45b56fb2",
   "metadata": {},
   "outputs": [
    {
     "name": "stdout",
     "output_type": "stream",
     "text": [
      "['100 €', '200 €', '500 €', '10 €', '50 €', '70 €']\n",
      "Sostituiti Euro \"€\" con Dollari \"$\" :\n",
      " ['100 $', '200 $', '500 $', '10 $', '50 $', '70 $']\n"
     ]
    }
   ],
   "source": [
    "prices = [\"100 €\", \"200 €\", \"500 €\", \"10 €\", \"50 €\", \"70 €\"]\n",
    "prices_dollar = list ()\n",
    "\n",
    "print (prices)\n",
    "\n",
    "for price in prices:\n",
    "    new_price = price.replace ('€', '$')\n",
    "    prices_dollar.append (new_price)\n",
    "\n",
    "print ('Sostituiti Euro \"€\" con Dollari \"$\" :\\n',prices_dollar)"
   ]
  },
  {
   "cell_type": "code",
   "execution_count": 265,
   "id": "45306096-9e6e-47a3-8991-c0a9cdb04d12",
   "metadata": {},
   "outputs": [
    {
     "name": "stdout",
     "output_type": "stream",
     "text": [
      "Per il campionato di Uno, divideremo i seguenti studenti in 2 squadre : \n",
      " ['Alex', 'Bob', 'Cindy', 'Dan', 'Emma', 'Faith', 'Grace', 'Henry', 'Isabelle', 'John']\n",
      "\n",
      "La prima squadra sarà formata da : ['Alex', 'Cindy', 'Emma', 'Grace', 'Isabelle']\n",
      "La seconda squadra sarà formata da : ['Bob', 'Dan', 'Faith', 'Henry', 'John']\n"
     ]
    }
   ],
   "source": [
    "students = [\"Alex\", \"Bob\", \"Cindy\", \"Dan\", \"Emma\", \"Faith\", \"Grace\", \"Henry\", \"Isabelle\", \"John\"]\n",
    "first_team = list ()\n",
    "second_team = list ()\n",
    "\n",
    "print ('Per il campionato di Uno, divideremo i seguenti studenti in 2 squadre : \\n', students)\n",
    "i = 0\n",
    "for student in students:\n",
    "    if (students.index (student) % 2) == 0: ## .index per puntare alla ricorrenza dell'oggetto\n",
    "        first_team.append (student) \n",
    "        i += 1\n",
    "    else:\n",
    "        second_team.append (student)\n",
    "        i += 1\n",
    "\n",
    "print ('\\nLa prima squadra sarà formata da :', first_team)\n",
    "print ('La seconda squadra sarà formata da :', second_team)       "
   ]
  },
  {
   "cell_type": "code",
   "execution_count": 278,
   "id": "0fc9e269-7c48-471d-a89b-3bcf5e68368d",
   "metadata": {},
   "outputs": [
    {
     "name": "stdout",
     "output_type": "stream",
     "text": [
      "Guadagni Mese 1 = 100\n"
     ]
    },
    {
     "ename": "ZeroDivisionError",
     "evalue": "integer division or modulo by zero",
     "output_type": "error",
     "traceback": [
      "\u001b[1;31m---------------------------------------------------------------------------\u001b[0m",
      "\u001b[1;31mZeroDivisionError\u001b[0m                         Traceback (most recent call last)",
      "Cell \u001b[1;32mIn[278], line 7\u001b[0m\n\u001b[0;32m      5\u001b[0m \u001b[38;5;28mprint\u001b[39m (\u001b[38;5;124m'\u001b[39m\u001b[38;5;124mGuadagni Mese\u001b[39m\u001b[38;5;124m'\u001b[39m, i\u001b[38;5;241m+\u001b[39m\u001b[38;5;241m1\u001b[39m,\u001b[38;5;124m'\u001b[39m\u001b[38;5;124m=\u001b[39m\u001b[38;5;124m'\u001b[39m,earning)\n\u001b[0;32m      6\u001b[0m tot \u001b[38;5;241m+\u001b[39m\u001b[38;5;241m=\u001b[39m earning\n\u001b[1;32m----> 7\u001b[0m med \u001b[38;5;241m=\u001b[39m tot \u001b[38;5;241m/\u001b[39m\u001b[38;5;241m/\u001b[39m i\n\u001b[0;32m      8\u001b[0m \u001b[38;5;28mprint\u001b[39m (\u001b[38;5;124m'\u001b[39m\u001b[38;5;124mMedia guadagni allo scorso mese :\u001b[39m\u001b[38;5;124m'\u001b[39m, med)\n\u001b[0;32m      9\u001b[0m i \u001b[38;5;241m+\u001b[39m\u001b[38;5;241m=\u001b[39m \u001b[38;5;241m1\u001b[39m\n",
      "\u001b[1;31mZeroDivisionError\u001b[0m: integer division or modulo by zero"
     ]
    }
   ],
   "source": [
    "earnings = [100, 90, 70, 40, 50, 80, 90, 120, 80, 20, 50, 50]\n",
    "i = 0\n",
    "\n",
    "for earning in earnings:\n",
    "    print ('Guadagni Mese', i+1,'=',earning)\n",
    "    tot += earning\n",
    "    med = tot // i\n",
    "    print ('Media guadagni allo scorso mese :', med)\n",
    "    i += 1"
   ]
  }
 ],
 "metadata": {
  "kernelspec": {
   "display_name": "Python 3 (ipykernel)",
   "language": "python",
   "name": "python3"
  },
  "language_info": {
   "codemirror_mode": {
    "name": "ipython",
    "version": 3
   },
   "file_extension": ".py",
   "mimetype": "text/x-python",
   "name": "python",
   "nbconvert_exporter": "python",
   "pygments_lexer": "ipython3",
   "version": "3.11.7"
  }
 },
 "nbformat": 4,
 "nbformat_minor": 5
}
